{
  "nbformat": 4,
  "nbformat_minor": 0,
  "metadata": {
    "colab": {
      "provenance": [],
      "collapsed_sections": [
        "b8yWhwFHzRPa"
      ]
    },
    "kernelspec": {
      "name": "python3",
      "display_name": "Python 3"
    },
    "language_info": {
      "name": "python"
    }
  },
  "cells": [
    {
      "cell_type": "markdown",
      "source": [
        "#Data type and Structures"
      ],
      "metadata": {
        "id": "b8yWhwFHzRPa"
      }
    },
    {
      "cell_type": "markdown",
      "source": [
        "1. What are data structures, and why are they important?\n",
        "\n",
        "  -> Data structures are specialized formats for organizing, storing, and accessing collections of data. They provide efficient ways to manage information based on its characteristics and intended use. They are important because simplify data manipulation, optimize searching and sorting operations, and conserve memory usage."
      ],
      "metadata": {
        "id": "Exrtt2GJzffC"
      }
    },
    {
      "cell_type": "markdown",
      "source": [
        "2.   Explain the difference between mutable and immutable data types with examples.\n",
        "\n",
        "  -> Mutable data types can be modified after creation such as list and dictionaries, while Immutable data type cannot modified after creation such as tuple and string."
      ],
      "metadata": {
        "id": "eBqniKm7zfum"
      }
    },
    {
      "cell_type": "code",
      "source": [
        "#Example\n",
        "my_list = [1, 2, 3]\n",
        "my_tuple = (1, 2, 3)\n",
        "\n",
        "# Modifying list\n",
        "my_list[0] = 10\n",
        "print(\"Modified list:\", my_list)\n",
        "\n",
        "# Trying to modify tuple\n",
        "try:\n",
        "    my_tuple[0] = 10\n",
        "except TypeError as e:\n",
        "    print(\"Error:\", e)"
      ],
      "metadata": {
        "colab": {
          "base_uri": "https://localhost:8080/"
        },
        "id": "A_Lra1cp1Jf0",
        "outputId": "bb666d09-ff99-4f58-b939-393abaf5eeec"
      },
      "execution_count": null,
      "outputs": [
        {
          "output_type": "stream",
          "name": "stdout",
          "text": [
            "Modified list: [10, 2, 3]\n",
            "Error: 'tuple' object does not support item assignment\n"
          ]
        }
      ]
    },
    {
      "cell_type": "markdown",
      "source": [
        "3. What are the main differences between lists and tuples in Python?\n",
        "\n",
        "  -> The main difference between lists and tuples in python is ,Lists are mutable data structure but tuples are immutable data structure."
      ],
      "metadata": {
        "id": "eOgnU4Qqzf33"
      }
    },
    {
      "cell_type": "markdown",
      "source": [
        "4. Describe how dictionaries store data.\n",
        "\n",
        "  -> Dictionaries store data in the form of key value pair. It store data unordered format. In dictionaries, we can access value with the help of their corresponding keys."
      ],
      "metadata": {
        "id": "QCl6OTb4zgCa"
      }
    },
    {
      "cell_type": "markdown",
      "source": [
        "5. Why might you use a set instead of a list in Python?\n",
        "\n",
        "  -> You might use a set instead of a list in Python when you need : unique elements only (sets remove duplicates automatically), fast membership checks, efficient set operations like union, intersection, and difference."
      ],
      "metadata": {
        "id": "0ovdkuf93CEB"
      }
    },
    {
      "cell_type": "markdown",
      "source": [
        "6. What is a string in Python, and how is it different from a list?\n",
        "\n",
        "  -> String in python is a sequence of characters. It represents and manipulate textual data. It is different from a list because List are mutable but string is immutable and List stores any types of data but string stores only characters data."
      ],
      "metadata": {
        "id": "bTTETJfi3CGT"
      }
    },
    {
      "cell_type": "markdown",
      "source": [],
      "metadata": {
        "id": "OABefKTk3CJ3"
      }
    },
    {
      "cell_type": "markdown",
      "source": [
        "7. How do tuples ensure data integrity in Python?\n",
        "\n",
        "  -> Tuples ensure data integrity in Python by being immutable—once created, their values cannot be changed. This prevents accidental modifications, making them ideal for storing fixed, constant, or protected data."
      ],
      "metadata": {
        "id": "H_nbfST33COB"
      }
    },
    {
      "cell_type": "markdown",
      "source": [
        "8. What is a hash table, and how does it relate to dictionaries in Python?\n",
        "\n",
        "  -> A hash table is a data structure that maps keys to values using a hash function to compute an index into an array of buckets where the data is stored. It related to dictionaries in python because python dictionaries are built on hash tables. When you add a key-value pair to a dictionary:(a) Python computes a hash of the key.(b) Uses that hash to find an index in an internal array.(c) Stores the value at that position."
      ],
      "metadata": {
        "id": "bYW4CRKY3CXF"
      }
    },
    {
      "cell_type": "markdown",
      "source": [
        "9. Can lists contain different data types in Python?\n",
        "\n",
        "  -> Yes, lists contain different data types in python because it is hetrogeneous, means store any types of data such as integers, float, strings etc."
      ],
      "metadata": {
        "id": "6UlRaUGr7jhv"
      }
    },
    {
      "cell_type": "markdown",
      "source": [
        "10. Explain why strings are immutable in Python?\n",
        "\n",
        "  -> Strings are immutable in Python to ensure data safety, efficient memory use, and to allow their use as keys in dictionaries. Once created, a string can't be changed—this makes code more reliable and fast.\n"
      ],
      "metadata": {
        "id": "3EX8mc2o7jkP"
      }
    },
    {
      "cell_type": "markdown",
      "source": [
        "11. What advantages do dictionaries offer over lists for certain tasks?\n",
        "\n",
        "  -> Dictionaries offer key advantages over lists for certain tasks: Fast lookups using keys (O(1) time), descriptive keys make data easier to understand, and no need to search through items to find a match."
      ],
      "metadata": {
        "id": "NRqw5FcJ7jm5"
      }
    },
    {
      "cell_type": "markdown",
      "source": [
        "12. Describe a scenario where using a tuple would be preferable over a list.\n",
        "\n",
        "  -> Using a tuple would be preferable over a list when you need fixed and unchangeable data. Tuple provide data protection and better performance."
      ],
      "metadata": {
        "id": "GPEb3TKl7j2L"
      }
    },
    {
      "cell_type": "markdown",
      "source": [
        "13.  How do sets handle duplicate values in Python?\n",
        "\n",
        "  -> In Python, sets automatically eliminate duplicate values. When you add elements to a set, Python checks each new item's hash value and only keeps one instance of each unique value."
      ],
      "metadata": {
        "id": "VVIshWDL7j5E"
      }
    },
    {
      "cell_type": "markdown",
      "source": [
        "14. How does the “in” keyword work differently for lists and dictionaries?\n",
        "\n",
        "  -> The \"in\" keyword work differntly for lists and dictionaries. In a list, it checks if a value exists in the list. But in a dictionaries, it checks if a key exists (not a value)."
      ],
      "metadata": {
        "id": "9EeYiNuG-le3"
      }
    },
    {
      "cell_type": "markdown",
      "source": [
        "15. Can you modify the elements of a tuple? Explain why or why not?\n",
        "\n",
        "  -> No, you cannot modify the elements of a tuple in Python because tuples are immutable. Once a tuple is created, its contents cannot be changed. This ensures data integrity."
      ],
      "metadata": {
        "id": "BnCZyEX3-lk7"
      }
    },
    {
      "cell_type": "markdown",
      "source": [
        "16. What is a nested dictionary, and give an example of its use case?\n",
        "\n",
        "  -> A nested dictionary in Python is a dictionary where values themselves are dictionaries. It's useful for representing hierarchical or structured data.\n",
        "  Its use case in Database records, Configurations and Multi-level categories."
      ],
      "metadata": {
        "id": "UAqsGRgW-lod"
      }
    },
    {
      "cell_type": "code",
      "source": [
        "#example\n",
        "students = {\n",
        "    \"Abhay\": {\"age\": 22, \"grade\": \"A\"},\n",
        "    \"Mohit\": {\"age\": 21, \"grade\": \"B\"},\n",
        "}\n",
        "#access values\n",
        "print(students[\"Abhay\"][\"age\"])"
      ],
      "metadata": {
        "colab": {
          "base_uri": "https://localhost:8080/"
        },
        "id": "FxnXZ-5sAt4z",
        "outputId": "d9d3717e-cc52-4bf7-baf9-d02518921c3a"
      },
      "execution_count": null,
      "outputs": [
        {
          "output_type": "stream",
          "name": "stdout",
          "text": [
            "22\n"
          ]
        }
      ]
    },
    {
      "cell_type": "markdown",
      "source": [
        "17. Describe the time complexity of accessing elements in a dictionary.\n",
        "\n",
        "  -> The time complexity of accessing elements in a dictionaty : In average case - O(1) and In worst case - O(n). Dictionary access typically O(1). It is faster and efficient due to hashing."
      ],
      "metadata": {
        "id": "IWdtWzUh-ltL"
      }
    },
    {
      "cell_type": "markdown",
      "source": [
        "18.  In what situations are lists preferred over dictionaries?\n",
        "\n",
        "  -> Lists are prefferable over dictionaries when you need ordered, indexable, or duplicate data without the overhead of key-value pairs."
      ],
      "metadata": {
        "id": "ff8yG4iICLYY"
      }
    },
    {
      "cell_type": "markdown",
      "source": [
        "19.  Why are dictionaries considered unordered, and how does that affect data retrieval?\n",
        "\n",
        "  -> Dictionaries considered unordered because it uses a hash table, which stores data based on hash values, not position or sequence. Dictionaries are still accessed by keys, not positions."
      ],
      "metadata": {
        "id": "Tf1YcAbxCLj9"
      }
    },
    {
      "cell_type": "markdown",
      "source": [
        "20.  Explain the difference between a list and a dictionary in terms of data retrieval.\n",
        "\n",
        "  -> The main differnce between a list and a dictionaty in term of data retrival , the data access by indexing in list but in dictionary, the data access by key."
      ],
      "metadata": {
        "id": "pMYIrz8ECL3P"
      }
    },
    {
      "cell_type": "markdown",
      "source": [
        "#Practical Questions"
      ],
      "metadata": {
        "id": "zgTDk05m2oTb"
      }
    },
    {
      "cell_type": "code",
      "source": [
        "# 1. Write a code to create a string with your name and print it.\n",
        "\n",
        "name = \"Himanshu Soni\"\n",
        "print(name)"
      ],
      "metadata": {
        "colab": {
          "base_uri": "https://localhost:8080/"
        },
        "id": "dDjJw2sU3D9T",
        "outputId": "43e034b8-cbd5-4336-902a-81c4c2c8afe8"
      },
      "execution_count": 2,
      "outputs": [
        {
          "output_type": "stream",
          "name": "stdout",
          "text": [
            "Himanshu Soni\n"
          ]
        }
      ]
    },
    {
      "cell_type": "code",
      "source": [
        "# 2.  Write a code to find the length of the string \"Hello World\".\n",
        "\n",
        "str1=\"Hello World\"\n",
        "print(len(str1))"
      ],
      "metadata": {
        "colab": {
          "base_uri": "https://localhost:8080/"
        },
        "id": "cwAJp0cR3EnY",
        "outputId": "295a0486-ffe2-4b1d-dd78-3f875a9de843"
      },
      "execution_count": 3,
      "outputs": [
        {
          "output_type": "stream",
          "name": "stdout",
          "text": [
            "11\n"
          ]
        }
      ]
    },
    {
      "cell_type": "code",
      "source": [
        "# 3. Write a code to slice the first 3 characters from the string \"Python Programming\".\n",
        "\n",
        "str1 = \"Python Programming\"\n",
        "print(str1[0:3])"
      ],
      "metadata": {
        "colab": {
          "base_uri": "https://localhost:8080/"
        },
        "id": "FMOcBQG73EpJ",
        "outputId": "ec5e0089-422c-4021-b53f-da406728fb7e"
      },
      "execution_count": 4,
      "outputs": [
        {
          "output_type": "stream",
          "name": "stdout",
          "text": [
            "Pyt\n"
          ]
        }
      ]
    },
    {
      "cell_type": "code",
      "source": [
        "# 4. Write a code to convert the string \"hello\" to uppercase.\n",
        "\n",
        "a = \"hello\"\n",
        "b= a.upper()\n",
        "print(b)"
      ],
      "metadata": {
        "colab": {
          "base_uri": "https://localhost:8080/"
        },
        "id": "iGqmZHgh3Er1",
        "outputId": "e442b409-6973-4c3d-8d22-267b8bcb4f77"
      },
      "execution_count": 6,
      "outputs": [
        {
          "output_type": "stream",
          "name": "stdout",
          "text": [
            "HELLO\n"
          ]
        }
      ]
    },
    {
      "cell_type": "code",
      "source": [
        "# 5. Write a code to replace the word \"apple\" with \"orange\" in the string \"I like apple\".\n",
        "\n",
        "a = \"I like apple\"\n",
        "b = a.replace(\"apple\",\"orange\")\n",
        "print(b)"
      ],
      "metadata": {
        "colab": {
          "base_uri": "https://localhost:8080/"
        },
        "id": "L4Z0JtGd3E0a",
        "outputId": "40236515-3288-4164-dc79-75559b9a3c9d"
      },
      "execution_count": 22,
      "outputs": [
        {
          "output_type": "stream",
          "name": "stdout",
          "text": [
            "I like orange\n"
          ]
        }
      ]
    },
    {
      "cell_type": "code",
      "source": [
        "# 6. Write a code to create a list with numbers 1 to 5 and print it.\n",
        "\n",
        "lst = [1,2,3,4,5]\n",
        "lst"
      ],
      "metadata": {
        "colab": {
          "base_uri": "https://localhost:8080/"
        },
        "id": "MIxJYqVD3E3Q",
        "outputId": "669e8fc7-f405-4e8d-b22b-6039a0e3ca63"
      },
      "execution_count": 23,
      "outputs": [
        {
          "output_type": "execute_result",
          "data": {
            "text/plain": [
              "[1, 2, 3, 4, 5]"
            ]
          },
          "metadata": {},
          "execution_count": 23
        }
      ]
    },
    {
      "cell_type": "code",
      "source": [
        "# 7. Write a code to append the number 10 to the list [1, 2, 3, 4].\n",
        "\n",
        "lst1= [1,2,3,4]\n",
        "lst1.append(10)\n",
        "lst1"
      ],
      "metadata": {
        "colab": {
          "base_uri": "https://localhost:8080/"
        },
        "id": "kNohqZOM6iRf",
        "outputId": "da2fd9ea-d81b-4642-d5ff-69a6c73b6995"
      },
      "execution_count": 24,
      "outputs": [
        {
          "output_type": "execute_result",
          "data": {
            "text/plain": [
              "[1, 2, 3, 4, 10]"
            ]
          },
          "metadata": {},
          "execution_count": 24
        }
      ]
    },
    {
      "cell_type": "code",
      "source": [
        "# 8. Write a code to remove the number 3 from the list [1, 2, 3, 4, 5].\n",
        "\n",
        "lst2 = [1,2,3,4,5]\n",
        "lst2.remove(3)\n",
        "lst2"
      ],
      "metadata": {
        "colab": {
          "base_uri": "https://localhost:8080/"
        },
        "id": "sbDEQlAy6iVN",
        "outputId": "3e48d50c-ad16-4435-cf6e-e6fc4a7ec257"
      },
      "execution_count": 25,
      "outputs": [
        {
          "output_type": "execute_result",
          "data": {
            "text/plain": [
              "[1, 2, 4, 5]"
            ]
          },
          "metadata": {},
          "execution_count": 25
        }
      ]
    },
    {
      "cell_type": "code",
      "source": [
        "# 9. Write a code to access the second element in the list ['a', 'b', 'c', 'd'].\n",
        "\n",
        "lst3 = ['a','b','c','d']\n",
        "lst3[1] #here indexing start from 0. If we access the second element we write 1."
      ],
      "metadata": {
        "colab": {
          "base_uri": "https://localhost:8080/",
          "height": 36
        },
        "id": "Cz1_A2486iYo",
        "outputId": "e2711377-90c6-4054-ed56-625e98d4dfb7"
      },
      "execution_count": 27,
      "outputs": [
        {
          "output_type": "execute_result",
          "data": {
            "text/plain": [
              "'b'"
            ],
            "application/vnd.google.colaboratory.intrinsic+json": {
              "type": "string"
            }
          },
          "metadata": {},
          "execution_count": 27
        }
      ]
    },
    {
      "cell_type": "code",
      "source": [
        "# 10. Write a code to reverse the list [10, 20, 30, 40, 50].\n",
        "\n",
        "my_list = [10,20,30,40,50]\n",
        "reverse_list = my_list[::-1]\n",
        "reverse_list"
      ],
      "metadata": {
        "colab": {
          "base_uri": "https://localhost:8080/"
        },
        "id": "zhjsbN3l6ibh",
        "outputId": "bc822c4c-1d9f-4fe3-fc2a-1f2883116e7b"
      },
      "execution_count": 28,
      "outputs": [
        {
          "output_type": "execute_result",
          "data": {
            "text/plain": [
              "[50, 40, 30, 20, 10]"
            ]
          },
          "metadata": {},
          "execution_count": 28
        }
      ]
    },
    {
      "cell_type": "code",
      "source": [
        "# 11. Write a code to create a tuple with the elements 100, 200, 300 and print it.\n",
        "\n",
        "tup = (100,200,300)\n",
        "print(tup)"
      ],
      "metadata": {
        "colab": {
          "base_uri": "https://localhost:8080/"
        },
        "id": "Zyegvyby6ies",
        "outputId": "6f1a51b7-e5d6-4fd0-cf88-1ba97f0d6a84"
      },
      "execution_count": 30,
      "outputs": [
        {
          "output_type": "stream",
          "name": "stdout",
          "text": [
            "(100, 200, 300)\n"
          ]
        }
      ]
    },
    {
      "cell_type": "code",
      "source": [
        "# 12. Write a code to access the second-to-last element of the tuple ('red', 'green', 'blue', 'yellow').\n",
        "\n",
        "tup1 = ('red','green','blue','yellow')\n",
        "second_to_last = tup1[-2]\n",
        "print(second_to_last)"
      ],
      "metadata": {
        "colab": {
          "base_uri": "https://localhost:8080/"
        },
        "id": "Axd1Sulp6ih-",
        "outputId": "44c88d22-5bb4-4f0c-a811-32983a860da8"
      },
      "execution_count": 31,
      "outputs": [
        {
          "output_type": "stream",
          "name": "stdout",
          "text": [
            "blue\n"
          ]
        }
      ]
    },
    {
      "cell_type": "code",
      "source": [
        "# 13. Write a code to find the minimum number in the tuple (10, 20, 5, 15).\n",
        "\n",
        "tup2 = (10,20,5,15)\n",
        "min_number = min(tup2)\n",
        "print(min_number)"
      ],
      "metadata": {
        "colab": {
          "base_uri": "https://localhost:8080/"
        },
        "id": "8oynRaQb83tT",
        "outputId": "547f1a99-0515-449e-bc5f-1281bdcac603"
      },
      "execution_count": 32,
      "outputs": [
        {
          "output_type": "stream",
          "name": "stdout",
          "text": [
            "5\n"
          ]
        }
      ]
    },
    {
      "cell_type": "code",
      "source": [
        "# 14. Write a code to find the index of the element \"cat\" in the tuple ('dog', 'cat', 'rabbit').\n",
        "\n",
        "animals = ('dag','cat','rabbit')\n",
        "index_of_cat = animals.index(\"cat\")\n",
        "print(index_of_cat)"
      ],
      "metadata": {
        "colab": {
          "base_uri": "https://localhost:8080/"
        },
        "id": "hDe3LUfM83wy",
        "outputId": "cee98124-ec68-4e49-f218-c44215f49b05"
      },
      "execution_count": 33,
      "outputs": [
        {
          "output_type": "stream",
          "name": "stdout",
          "text": [
            "1\n"
          ]
        }
      ]
    },
    {
      "cell_type": "code",
      "source": [
        "# 15. Write a code to create a tuple containing three different fruits and check if \"kiwi\" is in it.\n",
        "\n",
        "friuts = ('apple','banana','kiwi')\n",
        "is_kiwi_present = 'kiwi' in friuts\n",
        "print(is_kiwi_present)"
      ],
      "metadata": {
        "colab": {
          "base_uri": "https://localhost:8080/"
        },
        "id": "eE-Cwawv83zu",
        "outputId": "7af24166-6c31-455c-b712-2ad85be1cfab"
      },
      "execution_count": 1,
      "outputs": [
        {
          "output_type": "stream",
          "name": "stdout",
          "text": [
            "True\n"
          ]
        }
      ]
    },
    {
      "cell_type": "code",
      "source": [
        "# 16. Write a code to create a set with the elements 'a', 'b', 'c' and print it.\n",
        "\n",
        "sets = {'a','b','c'}\n",
        "print(sets)\n",
        "print(type(sets))"
      ],
      "metadata": {
        "colab": {
          "base_uri": "https://localhost:8080/"
        },
        "id": "JtENE6w6839Y",
        "outputId": "fefb83a6-4d53-4321-ae81-1a63ed7c196e"
      },
      "execution_count": 3,
      "outputs": [
        {
          "output_type": "stream",
          "name": "stdout",
          "text": [
            "{'c', 'b', 'a'}\n",
            "<class 'set'>\n"
          ]
        }
      ]
    },
    {
      "cell_type": "code",
      "source": [
        "# 17. Write a code to clear all elements from the set {1, 2, 3, 4, 5}.\n",
        "\n",
        "my_set = {1, 2, 3, 4, 5}\n",
        "my_set.clear()\n",
        "\n",
        "print(my_set)"
      ],
      "metadata": {
        "colab": {
          "base_uri": "https://localhost:8080/"
        },
        "id": "U75ojwUo84AP",
        "outputId": "0e53de5b-528a-4011-8809-f68a7444dfe6"
      },
      "execution_count": 4,
      "outputs": [
        {
          "output_type": "stream",
          "name": "stdout",
          "text": [
            "set()\n"
          ]
        }
      ]
    },
    {
      "cell_type": "code",
      "source": [
        "# 18. Write a code to remove the element 4 from the set {1, 2, 3, 4}.\n",
        "\n",
        "a = {1,2,3,4}\n",
        "a.remove(4)\n",
        "print(a)"
      ],
      "metadata": {
        "colab": {
          "base_uri": "https://localhost:8080/"
        },
        "id": "bFsI2KZUSJbh",
        "outputId": "a1093ac4-cf6f-4503-96f4-2ab887ea5fc3"
      },
      "execution_count": 5,
      "outputs": [
        {
          "output_type": "stream",
          "name": "stdout",
          "text": [
            "{1, 2, 3}\n"
          ]
        }
      ]
    },
    {
      "cell_type": "code",
      "source": [
        "# 19. Write a code to find the union of two sets {1, 2, 3} and {3, 4, 5}.\n",
        "\n",
        "set1 = {1, 2, 3}\n",
        "set2 = {3, 4, 5}\n",
        "union_set = set1.union(set2)\n",
        "print(union_set)"
      ],
      "metadata": {
        "colab": {
          "base_uri": "https://localhost:8080/"
        },
        "id": "74tyBlQ9SJeD",
        "outputId": "711c9a86-41a0-43da-a1b2-f58ffc0379c5"
      },
      "execution_count": 6,
      "outputs": [
        {
          "output_type": "stream",
          "name": "stdout",
          "text": [
            "{1, 2, 3, 4, 5}\n"
          ]
        }
      ]
    },
    {
      "cell_type": "code",
      "source": [
        "# 20. Write a code to find the intersection of two sets {1, 2, 3} and {2, 3, 4}.\n",
        "\n",
        "set1 = {1, 2, 3}\n",
        "set2 = {2, 3, 4}\n",
        "intersection_set = set1.intersection(set2)\n",
        "\n",
        "print(intersection_set)"
      ],
      "metadata": {
        "colab": {
          "base_uri": "https://localhost:8080/"
        },
        "id": "WUPfU4TvSJhV",
        "outputId": "90160a41-0232-4c2a-9af2-00ef330d2426"
      },
      "execution_count": 7,
      "outputs": [
        {
          "output_type": "stream",
          "name": "stdout",
          "text": [
            "{2, 3}\n"
          ]
        }
      ]
    },
    {
      "cell_type": "code",
      "source": [
        "# 21. Write a code to create a dictionary with the keys \"name\", \"age\", and \"city\", and print it.\n",
        "\n",
        "Person = {\n",
        "    \"name\" : \"Himanshu Soni\",\n",
        "    \"age\" : 39,\n",
        "    \"city\" : \"Jaipur\"\n",
        "}\n",
        "print(Person)"
      ],
      "metadata": {
        "colab": {
          "base_uri": "https://localhost:8080/"
        },
        "id": "_IXGICK6SJud",
        "outputId": "b436f96e-a933-40e5-fe7e-b00f768390cd"
      },
      "execution_count": 9,
      "outputs": [
        {
          "output_type": "stream",
          "name": "stdout",
          "text": [
            "{'name': 'Himanshu Soni', 'age': 39, 'city': 'Jaipur'}\n"
          ]
        }
      ]
    },
    {
      "cell_type": "code",
      "source": [
        "# 22. Write a code to add a new key-value pair \"country\": \"USA\" to the dictionary {'name': 'John', 'age': 25}.\n",
        "\n",
        "person = {'name': 'John', 'age': 25}\n",
        "person['country'] = 'USA'\n",
        "print(person)"
      ],
      "metadata": {
        "colab": {
          "base_uri": "https://localhost:8080/"
        },
        "id": "NYDlQqDmSJwE",
        "outputId": "20d79ed8-f25a-4658-d3de-acd3858811dd"
      },
      "execution_count": 10,
      "outputs": [
        {
          "output_type": "stream",
          "name": "stdout",
          "text": [
            "{'name': 'John', 'age': 25, 'country': 'USA'}\n"
          ]
        }
      ]
    },
    {
      "cell_type": "code",
      "source": [
        "# 23. Write a code to access the value associated with the key \"name\" in the dictionary {'name': 'Alice', 'age': 30}.\n",
        "\n",
        "person ={\n",
        "    'name' : 'Alice',\n",
        "    'age' : 30\n",
        "}\n",
        "\n",
        "person['name']"
      ],
      "metadata": {
        "colab": {
          "base_uri": "https://localhost:8080/",
          "height": 36
        },
        "id": "5eV-desmSJyM",
        "outputId": "81c3bca6-2e99-494b-fead-e4fad9b5dc85"
      },
      "execution_count": 11,
      "outputs": [
        {
          "output_type": "execute_result",
          "data": {
            "text/plain": [
              "'Alice'"
            ],
            "application/vnd.google.colaboratory.intrinsic+json": {
              "type": "string"
            }
          },
          "metadata": {},
          "execution_count": 11
        }
      ]
    },
    {
      "cell_type": "code",
      "source": [
        "# 24. Write a code to remove the key \"age\" from the dictionary {'name': 'Bob', 'age': 22, 'city': 'New York'}.\n",
        "\n",
        "Info = {\n",
        "    'name' : 'Bob',\n",
        "    'age' : 22,\n",
        "    'city' : 'New York'\n",
        "}\n",
        "Info.pop('age')\n",
        "print(Info)"
      ],
      "metadata": {
        "colab": {
          "base_uri": "https://localhost:8080/"
        },
        "id": "J2laY18USJ0e",
        "outputId": "c4afb81c-f920-41a6-b826-2d79ca72d35d"
      },
      "execution_count": 13,
      "outputs": [
        {
          "output_type": "stream",
          "name": "stdout",
          "text": [
            "{'name': 'Bob', 'city': 'New York'}\n"
          ]
        }
      ]
    },
    {
      "cell_type": "code",
      "source": [
        "# 25. Write a code to check if the key \"city\" exists in the dictionary {'name': 'Alice', 'city': 'Paris'}.\n",
        "\n",
        "dict ={\n",
        "    'name' : 'Alice',\n",
        "    'city' : 'Paris'\n",
        "}\n",
        "\n",
        "print('city' in dict)"
      ],
      "metadata": {
        "colab": {
          "base_uri": "https://localhost:8080/"
        },
        "id": "MxeCvC88SJ4B",
        "outputId": "8b3bcaf3-a995-4cdf-afb3-363d171805bf"
      },
      "execution_count": 16,
      "outputs": [
        {
          "output_type": "stream",
          "name": "stdout",
          "text": [
            "True\n"
          ]
        }
      ]
    },
    {
      "cell_type": "code",
      "source": [
        "# 26. Write a code to create a list, a tuple, and a dictionary, and print them all.\n",
        "\n",
        "my_list = [1,2,3,4,5]\n",
        "my_tuple = ('ram','mohan','rohit','aman')\n",
        "my_dict = {\n",
        "    'name' : 'Don',\n",
        "    'age' : 45,\n",
        "    'profession' : 'Engineer'\n",
        "}\n",
        "print(my_list)\n",
        "print(my_tuple)\n",
        "print(my_dict)"
      ],
      "metadata": {
        "colab": {
          "base_uri": "https://localhost:8080/"
        },
        "id": "653sJTizSJ_d",
        "outputId": "57e138e3-441d-4570-8ec3-331b657d4e8a"
      },
      "execution_count": 17,
      "outputs": [
        {
          "output_type": "stream",
          "name": "stdout",
          "text": [
            "[1, 2, 3, 4, 5]\n",
            "('ram', 'mohan', 'rohit', 'aman')\n",
            "{'name': 'Don', 'age': 45, 'profession': 'Engineer'}\n"
          ]
        }
      ]
    },
    {
      "cell_type": "code",
      "source": [
        "# 27. Write a code to create a list of 5 random numbers between 1 and 100, sort it in ascending order, and print the\n",
        "# result.(replaced)\n",
        "\n",
        "import random\n",
        "\n",
        "random_numbers = [random.randint(1, 100) for _ in range(5)]\n",
        "random_numbers.sort()\n",
        "\n",
        "print(\"Sorted list:\", random_numbers)"
      ],
      "metadata": {
        "colab": {
          "base_uri": "https://localhost:8080/"
        },
        "id": "R_qE3NqoSKCc",
        "outputId": "b1da92b4-219b-4744-9cb1-2d5445aba366"
      },
      "execution_count": 20,
      "outputs": [
        {
          "output_type": "stream",
          "name": "stdout",
          "text": [
            "Sorted list: [7, 25, 29, 52, 91]\n"
          ]
        }
      ]
    },
    {
      "cell_type": "code",
      "source": [
        "# 28. Write a code to create a list with strings and print the element at the third index.\n",
        "\n",
        "string_list = [\"apple\", \"banana\", \"cherry\", \"date\", \"elderberry\"]\n",
        "print(string_list[3])"
      ],
      "metadata": {
        "colab": {
          "base_uri": "https://localhost:8080/"
        },
        "id": "I1aLohukXOuU",
        "outputId": "bb0664bd-0698-4ba8-8817-208f3f83f455"
      },
      "execution_count": 21,
      "outputs": [
        {
          "output_type": "stream",
          "name": "stdout",
          "text": [
            "date\n"
          ]
        }
      ]
    },
    {
      "cell_type": "code",
      "source": [
        "# 29.  Write a code to combine two dictionaries into one and print the result.\n",
        "\n",
        "Info1 = {\n",
        "    'Name' : 'Himanshu',\n",
        "    'age' : 34\n",
        "}\n",
        "\n",
        "Info2 = {\n",
        "    'city' : 'Delhi',\n",
        "    'mobile_no' : 12345\n",
        "}\n",
        "\n",
        "combined_dict = {**Info1, **Info2}\n",
        "print(combined_dict)"
      ],
      "metadata": {
        "colab": {
          "base_uri": "https://localhost:8080/"
        },
        "id": "tyGReckmXO60",
        "outputId": "20456f4f-73f3-4a34-babb-a9463e99dcc1"
      },
      "execution_count": 22,
      "outputs": [
        {
          "output_type": "stream",
          "name": "stdout",
          "text": [
            "{'Name': 'Himanshu', 'age': 34, 'city': 'Delhi', 'mobile_no': 12345}\n"
          ]
        }
      ]
    },
    {
      "cell_type": "code",
      "source": [
        "# 30. Write a code to convert a list of strings into a set.\n",
        "\n",
        "string_list = [\"apple\", \"banana\", \"cherry\", \"apple\"]\n",
        "string_set = set(string_list)\n",
        "\n",
        "print(string_set)\n"
      ],
      "metadata": {
        "colab": {
          "base_uri": "https://localhost:8080/"
        },
        "id": "2kFEO9j6XPH1",
        "outputId": "1bca7706-41d8-4472-cdb9-763a35160d6d"
      },
      "execution_count": 23,
      "outputs": [
        {
          "output_type": "stream",
          "name": "stdout",
          "text": [
            "{'banana', 'cherry', 'apple'}\n"
          ]
        }
      ]
    }
  ]
}