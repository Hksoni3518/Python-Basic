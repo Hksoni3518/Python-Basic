{
  "nbformat": 4,
  "nbformat_minor": 0,
  "metadata": {
    "colab": {
      "provenance": [],
      "collapsed_sections": [
        "patgteNRTagK"
      ]
    },
    "kernelspec": {
      "name": "python3",
      "display_name": "Python 3"
    },
    "language_info": {
      "name": "python"
    }
  },
  "cells": [
    {
      "cell_type": "markdown",
      "source": [
        "#Python Basic\n"
      ],
      "metadata": {
        "id": "patgteNRTagK"
      }
    },
    {
      "cell_type": "markdown",
      "source": [
        "1. What is Python, and why is it popular ?\n",
        "\n",
        "  -> Python is a high-level, general-purpose programming language. It was created by Guido van Rossum in 1991. Python used for web development, data science, automation, AI, and more. It’s popular because it's simple to learn, has a huge library, supports many applications, and has strong community support."
      ],
      "metadata": {
        "id": "TIHPxJlRTe9n"
      }
    },
    {
      "cell_type": "markdown",
      "source": [
        "2. What is an interpreter in Python ?\n",
        "\n",
        "  -> An interpreter in Python is a program that processes Python code by reading and executing it line by line. It compiling the entire program into machine code, Python's interpreter translates and runs the code directly, which makes it easier to test and debug."
      ],
      "metadata": {
        "id": "fyLtUhSNUibR"
      }
    },
    {
      "cell_type": "markdown",
      "source": [
        "3. What are pre-defined keywords in Python ?\n",
        "\n",
        "  -> Pre-defined keywords in Python are reserved words that have special meaning in the language. They are part of Python’s syntax and cannot be used as variable names, function names, or identifiers."
      ],
      "metadata": {
        "id": "fCMuiEaXVDcs"
      }
    },
    {
      "cell_type": "markdown",
      "source": [
        "4. Can keywords be used as variable names ?\n",
        "\n",
        "  -> No, keywords cannot be used as variable names in Python. Because keywords are reserved by the language to define its syntax and structure. Using them as variable names would confuse the interpreter."
      ],
      "metadata": {
        "id": "16XIjwhrVZQF"
      }
    },
    {
      "cell_type": "markdown",
      "source": [
        "5. What is mutability in Python ?\n",
        "\n",
        "  -> Object whose state or value can be changed after thry are created are called as mutable object. It also known as item assignment. List is a type of mutable object."
      ],
      "metadata": {
        "id": "vi-dKS45VsVi"
      }
    },
    {
      "cell_type": "markdown",
      "source": [
        "6.  Why are lists mutable, but tuples are immutable ?\n",
        "\n",
        "  -> Lists are mutable because you can change, add, or remove items after creation. But tuples are immutable because once created, you cannot modify the contents."
      ],
      "metadata": {
        "id": "OEpRePaCWN3t"
      }
    },
    {
      "cell_type": "markdown",
      "source": [
        "7.  What is the difference between “==” and “is” operators in Python ?\n",
        "\n",
        "  -> The == operator checks if the values of two objects are equal. But The is operator checks whether two references point to the same object in memory. It compares the object identities, not the values."
      ],
      "metadata": {
        "id": "KhJEEi1jW2XP"
      }
    },
    {
      "cell_type": "markdown",
      "source": [
        "8. What are logical operators in Python ?\n",
        "\n",
        "  -> A logical operator in Python is used to perform logical operations on Boolean expressions. It helps in making decisions by combining multiple conditions that return True or False. Python has three logical operator such as 'and', 'or', 'not'."
      ],
      "metadata": {
        "id": "6QK-2sVTXj-l"
      }
    },
    {
      "cell_type": "markdown",
      "source": [
        "9. What is type casting in Python ?\n",
        "\n",
        "  -> Type casting in Python means converting the data type of a value from one type to another — for example, from int to float, or str to int. It has two types Implicit and Explicit."
      ],
      "metadata": {
        "id": "-2QGMxiNYFWR"
      }
    },
    {
      "cell_type": "markdown",
      "source": [
        "10. What is the difference between implicit and explicit type casting ?\n",
        "\n",
        "  -> Implicit type casting is automatic type conversion by Python. It done by Python interpreter. But Explicit type casting is manual type conversion by the programmer. It\tdone using built-in functions like int(), float()."
      ],
      "metadata": {
        "id": "No5KN66yYst0"
      }
    },
    {
      "cell_type": "markdown",
      "source": [
        "11. What is the purpose of conditional statements in Python ?\n",
        "\n",
        "  -> The purpose of conditional statements in Python is to allow the program to make decisions and execute different code based on certain conditions. It control the flow of execution. To perform different actions depending on different inputs or situations. To make your code dynamic and responsive."
      ],
      "metadata": {
        "id": "ljOmh2NKZeQj"
      }
    },
    {
      "cell_type": "markdown",
      "source": [
        "12.  How does the elif statement work ?\n",
        "\n",
        "  -> The elif statement allows you to check multiple conditions after an initial if condition, and it only runs if the previous if or elif was false.First check the if statement if it false then check elif statement."
      ],
      "metadata": {
        "id": "mNwp-kVJAxq1"
      }
    },
    {
      "cell_type": "markdown",
      "source": [
        "13. What is the difference between for and while loops ?\n",
        "\n",
        "  -> For loops used when you know in advance how many times you want to loop. It commonly used to loop over sequences like lists, strings, or ranges. But While loops used when you don’t know in advance how many times to loop. It runs as long as a condition is True."
      ],
      "metadata": {
        "id": "_gTwDcByByvg"
      }
    },
    {
      "cell_type": "markdown",
      "source": [
        "14. Describe a scenario where a while loop is more suitable than a for loop?\n",
        "\n",
        "  -> A while loop is more suitable than a for loop when you don’t know ahead of time how many times you need to loop — for example, when you're waiting for a specific condition to be met based on user input, sensor data, or other real-time events."
      ],
      "metadata": {
        "id": "0gM207jJCBcF"
      }
    },
    {
      "cell_type": "markdown",
      "source": [
        "# Practical Questions"
      ],
      "metadata": {
        "id": "T7JJlRFZCT9y"
      }
    },
    {
      "cell_type": "code",
      "source": [
        "#  1. Write a Python program to print \"Hello, World!\"\n",
        "\n",
        "print(\"Hello, World!\")"
      ],
      "metadata": {
        "colab": {
          "base_uri": "https://localhost:8080/"
        },
        "id": "wwEgnvAMDCKR",
        "outputId": "74e74920-322a-4496-8498-ef6af96f607d"
      },
      "execution_count": 1,
      "outputs": [
        {
          "output_type": "stream",
          "name": "stdout",
          "text": [
            "Hello, World!\n"
          ]
        }
      ]
    },
    {
      "cell_type": "code",
      "source": [
        "# 2. Write a Python program that displays your name and age.\n",
        "\n",
        "print(\"Name : Himanshu Kumar Soni\")\n",
        "print(\"Age : 21\")"
      ],
      "metadata": {
        "colab": {
          "base_uri": "https://localhost:8080/"
        },
        "id": "oc7ppszhCgOT",
        "outputId": "caf5dae1-da59-4dc5-aa43-4cb4a73fc334"
      },
      "execution_count": 4,
      "outputs": [
        {
          "output_type": "stream",
          "name": "stdout",
          "text": [
            "Name : Himanshu Kumar Soni\n",
            "Age : 21\n"
          ]
        }
      ]
    },
    {
      "cell_type": "code",
      "source": [
        "# 3. Write code to print all the pre-defined keywords in Python using the keyword library.\n",
        "\n",
        "import keyword\n",
        "keywords_list = keyword.kwlist\n",
        "\n",
        "print(\"Python Keywords:\")\n",
        "for kw in keywords_list:\n",
        "    print(kw)"
      ],
      "metadata": {
        "colab": {
          "base_uri": "https://localhost:8080/"
        },
        "collapsed": true,
        "id": "4CP8gUMlD3ae",
        "outputId": "4c891a3e-871a-4d5b-9fcf-2cc6a544faf7"
      },
      "execution_count": 5,
      "outputs": [
        {
          "output_type": "stream",
          "name": "stdout",
          "text": [
            "Python Keywords:\n",
            "False\n",
            "None\n",
            "True\n",
            "and\n",
            "as\n",
            "assert\n",
            "async\n",
            "await\n",
            "break\n",
            "class\n",
            "continue\n",
            "def\n",
            "del\n",
            "elif\n",
            "else\n",
            "except\n",
            "finally\n",
            "for\n",
            "from\n",
            "global\n",
            "if\n",
            "import\n",
            "in\n",
            "is\n",
            "lambda\n",
            "nonlocal\n",
            "not\n",
            "or\n",
            "pass\n",
            "raise\n",
            "return\n",
            "try\n",
            "while\n",
            "with\n",
            "yield\n"
          ]
        }
      ]
    },
    {
      "cell_type": "code",
      "source": [
        "# 4. Write a program that checks if a given word is a Python keyword.\n",
        "\n",
        "import keyword\n",
        "\n",
        "word = input(\"Enter a word: \")\n",
        "\n",
        "\n",
        "if keyword.iskeyword(word):\n",
        "    print(f\"'{word}' is a Python keyword.\")\n",
        "else:\n",
        "    print(f\"'{word}' is NOT a Python keyword.\")\n"
      ],
      "metadata": {
        "colab": {
          "base_uri": "https://localhost:8080/"
        },
        "id": "4ZpDsxebEOT5",
        "outputId": "343edd0f-d030-4a58-9498-8253a762ee32"
      },
      "execution_count": 6,
      "outputs": [
        {
          "output_type": "stream",
          "name": "stdout",
          "text": [
            "Enter a word: while\n",
            "'while' is a Python keyword.\n"
          ]
        }
      ]
    },
    {
      "cell_type": "code",
      "source": [
        "# 5. Create a list and tuple in Python, and demonstrate how attempting to change an element works differently\n",
        "# for each.\n",
        "\n",
        "my_list = [10, 20, 30]\n",
        "my_tuple = (10, 20, 30)\n",
        "\n",
        "my_list[1] = 99\n",
        "print(\"Modified list:\", my_list)\n",
        "\n",
        "my_tuple[1]=80\n",
        "print(\"Modified Tuple:\", my_tuple)"
      ],
      "metadata": {
        "colab": {
          "base_uri": "https://localhost:8080/",
          "height": 211
        },
        "collapsed": true,
        "id": "hj5fled-El8L",
        "outputId": "20227f33-f57f-49ad-ba22-878cd095da87"
      },
      "execution_count": 7,
      "outputs": [
        {
          "output_type": "stream",
          "name": "stdout",
          "text": [
            "Modified list: [10, 99, 30]\n"
          ]
        },
        {
          "output_type": "error",
          "ename": "TypeError",
          "evalue": "'tuple' object does not support item assignment",
          "traceback": [
            "\u001b[0;31m---------------------------------------------------------------------------\u001b[0m",
            "\u001b[0;31mTypeError\u001b[0m                                 Traceback (most recent call last)",
            "\u001b[0;32m<ipython-input-7-1921599978>\u001b[0m in \u001b[0;36m<cell line: 0>\u001b[0;34m()\u001b[0m\n\u001b[1;32m      8\u001b[0m \u001b[0mprint\u001b[0m\u001b[0;34m(\u001b[0m\u001b[0;34m\"Modified list:\"\u001b[0m\u001b[0;34m,\u001b[0m \u001b[0mmy_list\u001b[0m\u001b[0;34m)\u001b[0m\u001b[0;34m\u001b[0m\u001b[0;34m\u001b[0m\u001b[0m\n\u001b[1;32m      9\u001b[0m \u001b[0;34m\u001b[0m\u001b[0m\n\u001b[0;32m---> 10\u001b[0;31m \u001b[0mmy_tuple\u001b[0m\u001b[0;34m[\u001b[0m\u001b[0;36m1\u001b[0m\u001b[0;34m]\u001b[0m\u001b[0;34m=\u001b[0m\u001b[0;36m80\u001b[0m\u001b[0;34m\u001b[0m\u001b[0;34m\u001b[0m\u001b[0m\n\u001b[0m\u001b[1;32m     11\u001b[0m \u001b[0mprint\u001b[0m\u001b[0;34m(\u001b[0m\u001b[0;34m\"Modified Tuple:\"\u001b[0m\u001b[0;34m,\u001b[0m \u001b[0mmy_tuple\u001b[0m\u001b[0;34m)\u001b[0m\u001b[0;34m\u001b[0m\u001b[0;34m\u001b[0m\u001b[0m\n",
            "\u001b[0;31mTypeError\u001b[0m: 'tuple' object does not support item assignment"
          ]
        }
      ]
    },
    {
      "cell_type": "code",
      "source": [
        "# 6. Write a function to demonstrate the behavior of mutable and immutable arguments.\n",
        "\n",
        "def modify_arguments(num, num_list):\n",
        "    print(\"Inside function before modification:\")\n",
        "    print(\"num:\", num)\n",
        "    print(\"num_list:\", num_list)\n",
        "\n",
        "    num += 10\n",
        "    num_list.append(100)\n",
        "\n",
        "    print(\"Inside function after modification:\")\n",
        "    print(\"num:\", num)\n",
        "    print(\"num_list:\", num_list)\n",
        "\n",
        "a = 5\n",
        "b = [1, 2, 3]\n",
        "\n",
        "modify_arguments(a, b)\n",
        "\n",
        "print(\"\\nOutside function after calling it:\")\n",
        "print(\"a:\", a)\n",
        "print(\"b:\", b)\n"
      ],
      "metadata": {
        "colab": {
          "base_uri": "https://localhost:8080/"
        },
        "id": "Swt76GQYFTiQ",
        "outputId": "5701f62a-8237-4721-d21e-a3e205eed169"
      },
      "execution_count": 8,
      "outputs": [
        {
          "output_type": "stream",
          "name": "stdout",
          "text": [
            "Inside function before modification:\n",
            "num: 5\n",
            "num_list: [1, 2, 3]\n",
            "Inside function after modification:\n",
            "num: 15\n",
            "num_list: [1, 2, 3, 100]\n",
            "\n",
            "Outside function after calling it:\n",
            "a: 5\n",
            "b: [1, 2, 3, 100]\n"
          ]
        }
      ]
    },
    {
      "cell_type": "code",
      "source": [
        "# 7. Write a program that performs basic arithmetic operations on two user-input numbers.\n",
        "\n",
        "num1 = int(input(\"Enter the first number: \"))\n",
        "num2 = int(input(\"Enter the second number: \"))\n",
        "\n",
        "print(\"\\nArithmetic Operations Results:\")\n",
        "print(f\"{num1} + {num2} = {num1 + num2}\")\n",
        "print(f\"{num1} - {num2} = {num1 - num2}\")\n",
        "print(f\"{num1} * {num2} = {num1 * num2}\")\n",
        "print(f\"{num1} / {num2} = {num1 / num2}\")\n",
        "print(f\"{num1} // {num2} = {num1 // num2}\")\n",
        "print(f\"{num1} % {num2} = {num1 % num2}\")\n",
        "print(f\"{num1} ** {num2} = {num1 ** num2}\")\n"
      ],
      "metadata": {
        "colab": {
          "base_uri": "https://localhost:8080/"
        },
        "id": "VqH-KHnAFzU-",
        "outputId": "58ce92bd-3dd2-4a8e-f695-06c4e89faf47"
      },
      "execution_count": 11,
      "outputs": [
        {
          "output_type": "stream",
          "name": "stdout",
          "text": [
            "Enter the first number: 8\n",
            "Enter the second number: 4\n",
            "\n",
            "Arithmetic Operations Results:\n",
            "8 + 4 = 12\n",
            "8 - 4 = 4\n",
            "8 * 4 = 32\n",
            "8 / 4 = 2.0\n",
            "8 // 4 = 2\n",
            "8 % 4 = 0\n",
            "8 ** 4 = 4096\n"
          ]
        }
      ]
    },
    {
      "cell_type": "code",
      "source": [
        "# 8. Write a program to demonstrate the use of logical operators.\n",
        "\n",
        "a = int(input(\"Enter the first number: \"))\n",
        "b = int(input(\"Enter the second number: \"))\n",
        "\n",
        "print(\"\\nLogical AND:\")\n",
        "if a > 0 and b > 0:\n",
        "    print(\"Both numbers are positive.\")\n",
        "else:\n",
        "    print(\"At least one number is not positive.\")\n",
        "\n",
        "print(\"\\nLogical OR:\")\n",
        "if a > 0 or b > 0:\n",
        "    print(\"At least one number is positive.\")\n",
        "else:\n",
        "    print(\"Neither number is positive.\")\n",
        "\n",
        "print(\"\\nLogical NOT:\")\n",
        "if not (a < 0 or b < 0):\n",
        "    print(\"Neither number is negative.\")\n",
        "else:\n",
        "    print(\"At least one number is negative.\")\n"
      ],
      "metadata": {
        "colab": {
          "base_uri": "https://localhost:8080/"
        },
        "id": "37KNBBluG3OJ",
        "outputId": "28fcd8ba-7f00-4db3-d4d2-c28bf00e1d44"
      },
      "execution_count": 12,
      "outputs": [
        {
          "output_type": "stream",
          "name": "stdout",
          "text": [
            "Enter the first number: 8\n",
            "Enter the second number: 4\n",
            "\n",
            "Logical AND:\n",
            "Both numbers are positive.\n",
            "\n",
            "Logical OR:\n",
            "At least one number is positive.\n",
            "\n",
            "Logical NOT:\n",
            "Neither number is negative.\n"
          ]
        }
      ]
    },
    {
      "cell_type": "code",
      "source": [
        "# 9. Write a Python program to convert user input from string to integer, float, and boolean types.\n",
        "\n",
        "# Get user input as a string\n",
        "user_input = input(\"Enter a value: \")\n",
        "\n",
        "# Convert to integer\n",
        "int_value = int(user_input)\n",
        "print(int_value)\n",
        "print(type(int_value))\n",
        "\n",
        "\n",
        "# Convert to float\n",
        "float_value = float(user_input)\n",
        "print(float_value)\n",
        "print(type(float_value))\n",
        "\n",
        "# Convert to boolean\n",
        "bool_value = bool(user_input.strip())\n",
        "print(bool_value)\n",
        "print(type(bool_value))\n"
      ],
      "metadata": {
        "colab": {
          "base_uri": "https://localhost:8080/"
        },
        "id": "W0kN-v9fHXKI",
        "outputId": "e512a3c6-3b98-4545-d20b-3208aed5bfa6"
      },
      "execution_count": 14,
      "outputs": [
        {
          "output_type": "stream",
          "name": "stdout",
          "text": [
            "Enter a value: 65\n",
            "65\n",
            "<class 'int'>\n",
            "<class 'float'>\n",
            "<class 'bool'>\n"
          ]
        }
      ]
    },
    {
      "cell_type": "code",
      "source": [
        "# 10. Write code to demonstrate type casting with list elements.\n",
        "\n",
        "# List of string numbers\n",
        "str_list = ['1', '2', '3', '4.5', '5.0']\n",
        "\n",
        "print(\"Original list (strings):\", str_list)\n",
        "\n",
        "# Convert all elements to floats\n",
        "float_list = [float(item) for item in str_list]\n",
        "print(\"List after converting to floats:\", float_list)\n",
        "\n",
        "# Convert elements to booleans\n",
        "bool_list = [bool(item) for item in str_list]\n",
        "print(\"List after converting to booleans:\", bool_list)\n"
      ],
      "metadata": {
        "colab": {
          "base_uri": "https://localhost:8080/"
        },
        "id": "9TmceZ6wIhbO",
        "outputId": "44b5bccf-5b32-48b7-eacf-cb7a9bfd2a28"
      },
      "execution_count": 15,
      "outputs": [
        {
          "output_type": "stream",
          "name": "stdout",
          "text": [
            "Original list (strings): ['1', '2', '3', '4.5', '5.0']\n",
            "List after converting to floats: [1.0, 2.0, 3.0, 4.5, 5.0]\n",
            "List after converting to booleans: [True, True, True, True, True]\n"
          ]
        }
      ]
    },
    {
      "cell_type": "code",
      "source": [
        "# 11. Write a program that checks if a number is positive, negative, or zero.\n",
        "\n",
        "num = int(input(\"Enter a number: \"))\n",
        "\n",
        "if num > 0:\n",
        "    print(\"The number is positive.\")\n",
        "elif num < 0:\n",
        "    print(\"The number is negative.\")\n",
        "else:\n",
        "    print(\"The number is zero.\")\n"
      ],
      "metadata": {
        "colab": {
          "base_uri": "https://localhost:8080/"
        },
        "id": "WGFRYi7tI_et",
        "outputId": "b6230122-9a12-4cae-fc29-db17fea25758"
      },
      "execution_count": 16,
      "outputs": [
        {
          "output_type": "stream",
          "name": "stdout",
          "text": [
            "Enter a number: 10\n",
            "The number is positive.\n"
          ]
        }
      ]
    },
    {
      "cell_type": "code",
      "source": [
        "# 12. Write a for loop to print numbers from 1 to 10.\n",
        "\n",
        "for i in range(1, 11):\n",
        "    print(i)"
      ],
      "metadata": {
        "colab": {
          "base_uri": "https://localhost:8080/"
        },
        "id": "f7iL30pcJVM4",
        "outputId": "18e2613e-d1f3-425e-9954-f486095b00e2"
      },
      "execution_count": 18,
      "outputs": [
        {
          "output_type": "stream",
          "name": "stdout",
          "text": [
            "1\n",
            "2\n",
            "3\n",
            "4\n",
            "5\n",
            "6\n",
            "7\n",
            "8\n",
            "9\n",
            "10\n"
          ]
        }
      ]
    },
    {
      "cell_type": "code",
      "source": [
        "# 13. Write a Python program to find the sum of all even numbers between 1 and 50.\n",
        "\n",
        "total = 0\n",
        "\n",
        "for i in range(1, 51):\n",
        "    if i % 2 == 0:\n",
        "        total += i\n",
        "\n",
        "print(\"Sum of even numbers from 1 to 50 is:\", total)\n"
      ],
      "metadata": {
        "colab": {
          "base_uri": "https://localhost:8080/"
        },
        "id": "sk2sGWFWJ4b_",
        "outputId": "08f2db02-f8ca-424a-f76c-571e1d9abb24"
      },
      "execution_count": 19,
      "outputs": [
        {
          "output_type": "stream",
          "name": "stdout",
          "text": [
            "Sum of even numbers from 1 to 50 is: 650\n"
          ]
        }
      ]
    },
    {
      "cell_type": "code",
      "source": [
        "# 14. Write a program to reverse a string using a while loop.\n",
        "\n",
        "text = input(\"Enter a string: \")\n",
        "\n",
        "reversed_text = \"\"\n",
        "index = len(text) - 1\n",
        "\n",
        "while index >= 0:\n",
        "    reversed_text += text[index]\n",
        "    index -= 1\n",
        "\n",
        "print(\"Reversed string:\", reversed_text)\n"
      ],
      "metadata": {
        "colab": {
          "base_uri": "https://localhost:8080/"
        },
        "id": "VfK-I5oqKOR1",
        "outputId": "fa27a3ea-089e-4d27-fcbe-1bd8a81e2645"
      },
      "execution_count": 20,
      "outputs": [
        {
          "output_type": "stream",
          "name": "stdout",
          "text": [
            "Enter a string: Hello\n",
            "Reversed string: olleH\n"
          ]
        }
      ]
    },
    {
      "cell_type": "code",
      "source": [
        "# 15. Write a Python program to calculate the factorial of a number provided by the user using a while loop.\n",
        "\n",
        "num = int(input(\"Enter a non-negative integer: \"))\n",
        "\n",
        "if num < 0:\n",
        "    print(\"Factorial is not defined for negative numbers.\")\n",
        "else:\n",
        "    factorial = 1\n",
        "    i = 1\n",
        "\n",
        "    while i <= num:\n",
        "        factorial *= i\n",
        "        i += 1\n",
        "\n",
        "    print(f\"Factorial of {num} is {factorial}\")\n"
      ],
      "metadata": {
        "colab": {
          "base_uri": "https://localhost:8080/"
        },
        "id": "gIVQeAGsOgS4",
        "outputId": "cafeb051-4948-477d-880e-854ee0fa7e27"
      },
      "execution_count": 21,
      "outputs": [
        {
          "output_type": "stream",
          "name": "stdout",
          "text": [
            "Enter a non-negative integer: 5\n",
            "Factorial of 5 is 120\n"
          ]
        }
      ]
    }
  ]
}